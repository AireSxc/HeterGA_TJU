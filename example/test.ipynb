{
 "cells": [
  {
   "cell_type": "code",
   "execution_count": 1,
   "id": "ed20b40a-7831-4427-9c85-514bfb61adea",
   "metadata": {},
   "outputs": [],
   "source": [
    "import ase.io"
   ]
  },
  {
   "cell_type": "code",
   "execution_count": 2,
   "id": "a5267fa0-c697-4aee-9e15-77aa78fd9980",
   "metadata": {},
   "outputs": [],
   "source": [
    "stru = ase.io.read('POSCAR')"
   ]
  },
  {
   "cell_type": "code",
   "execution_count": 4,
   "id": "77d48f12-3b98-4e1a-af82-f6455998b90b",
   "metadata": {},
   "outputs": [
    {
     "data": {
      "text/plain": [
       "{8, 78}"
      ]
     },
     "execution_count": 4,
     "metadata": {},
     "output_type": "execute_result"
    }
   ],
   "source": [
    "set(stru.numbers)"
   ]
  },
  {
   "cell_type": "code",
   "execution_count": 12,
   "id": "b852ccb6-e29c-48db-83df-b5aa46dd997d",
   "metadata": {},
   "outputs": [
    {
     "data": {
      "text/plain": [
       "['Pt', 'O']"
      ]
     },
     "execution_count": 12,
     "metadata": {},
     "output_type": "execute_result"
    }
   ],
   "source": [
    "list(set(stru.get_chemical_symbols()))"
   ]
  },
  {
   "cell_type": "code",
   "execution_count": 8,
   "id": "feca0ccc-5d83-440d-957f-c87f62b60879",
   "metadata": {},
   "outputs": [
    {
     "data": {
      "text/plain": [
       "['3', 'a', '4', 'b', '5', 'cdd', '7', 'e']"
      ]
     },
     "execution_count": 8,
     "metadata": {},
     "output_type": "execute_result"
    }
   ],
   "source": [
    "import re\n",
    "s='3a4b5cdd7e'\n",
    "re.findall(r'[0-9]+|[a-z]+',stru.get_chemical_formula())\n",
    "['3', 'a', '4', 'b', '5', 'cdd', '7', 'e']"
   ]
  },
  {
   "cell_type": "code",
   "execution_count": 9,
   "id": "2ad49d6f-ed66-4b9e-ac9a-9d40044652f6",
   "metadata": {},
   "outputs": [
    {
     "data": {
      "text/plain": [
       "['3', 'a', '4', 'b', '5', 'cdd', '7', 'e']"
      ]
     },
     "execution_count": 9,
     "metadata": {},
     "output_type": "execute_result"
    }
   ],
   "source": [
    "re.findall(r'[0-9]+|[a-z]+',stru.get_chemical_formula())\n",
    "['3', 'a', '4', 'b', '5', 'cdd', '7', 'e']"
   ]
  },
  {
   "cell_type": "code",
   "execution_count": null,
   "id": "911d83c4-9932-4515-9dca-5ed5e5aee6ea",
   "metadata": {},
   "outputs": [],
   "source": []
  }
 ],
 "metadata": {
  "kernelspec": {
   "display_name": "Python 3 (ipykernel)",
   "language": "python",
   "name": "python3"
  },
  "language_info": {
   "codemirror_mode": {
    "name": "ipython",
    "version": 3
   },
   "file_extension": ".py",
   "mimetype": "text/x-python",
   "name": "python",
   "nbconvert_exporter": "python",
   "pygments_lexer": "ipython3",
   "version": "3.9.7"
  }
 },
 "nbformat": 4,
 "nbformat_minor": 5
}
